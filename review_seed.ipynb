{
 "cells": [
  {
   "cell_type": "code",
   "execution_count": 1,
   "metadata": {},
   "outputs": [],
   "source": [
    "def has_kw(name):\n",
    "    'used to filter out \"generic\" programs'\n",
    "    check_words = ['event ', 'tutor', 'mentor']\n",
    "    for word in check_words:\n",
    "        if word in name.lower():\n",
    "            return True\n",
    "    \n",
    "\n",
    "def extract_program_details(school):\n",
    "    'extract programs that include a url (marking those that include \"generic\" keywords)'\n",
    "    # return [ f\"{program['name']}{f'* ({program['url']})' if len(program['url']) else ''}{'#' if has_kw(program['name']) else ''}\" for program in school['programs']['createMany']['data'] if len(program['url'])]\n",
    "    return [ f\"{'*' if len(program['url']) else ''}{program['name']} ({program['category']}){'#' if has_kw(program['name']) else ''}\" for program in school['programs']['createMany']['data'] if len(program['url'])]"
   ]
  },
  {
   "cell_type": "code",
   "execution_count": 2,
   "metadata": {},
   "outputs": [
    {
     "name": "stdout",
     "output_type": "stream",
     "text": [
      "['*Donors Choose (donate)', '*PTSA (donate)', '*WALC Pathway (donate)']\n",
      "[\"*Burton's Marching Band (donate)\", '*Donors Choose (donate)', '*Food Pantry (donate)']\n",
      "['*Donors Choose (donate)', '*WALC Pathway (donate)']\n",
      "['*Donors Choose (donate)']\n",
      "['*Donors Choose (donate)']\n",
      "['*Donors Choose (donate)']\n",
      "['*Donors Choose (donate)']\n",
      "[]\n",
      "['*Donors Choose (donate)', '*Lincoln High School Alumni Association (donate)']\n",
      "['*Remote (Website, Social Media, Newsletter) (volunteer)', '*Donors Choose (donate)']\n",
      "['*Donors Choose (donate)']\n",
      "['*Donors Choose (donate)']\n",
      "['*Donors Choose (donate)']\n",
      "['*Donors Choose (donate)']\n",
      "['*Donors Choose (donate)']\n",
      "['*Campus Cleanup (volunteer)', '*Donors Choose (donate)', '*Zelle to the email wallenbergptsa@gmail.com (donate)']\n",
      "['*Donors Choose (donate)', '*GWHS Alumni Association (donate)', '*Richmond Neighborhood Center (donate)']\n"
     ]
    }
   ],
   "source": [
    "import json\n",
    "\n",
    "with open('seed.json') as f:\n",
    "    seed = json.load(f)\n",
    "\n",
    "for school in seed:\n",
    "    # print(extract_programs(school))\n",
    "    print(extract_program_details(school))"
   ]
  }
 ],
 "metadata": {
  "kernelspec": {
   "display_name": ".venv",
   "language": "python",
   "name": "python3"
  },
  "language_info": {
   "codemirror_mode": {
    "name": "ipython",
    "version": 3
   },
   "file_extension": ".py",
   "mimetype": "text/x-python",
   "name": "python",
   "nbconvert_exporter": "python",
   "pygments_lexer": "ipython3",
   "version": "3.12.3"
  }
 },
 "nbformat": 4,
 "nbformat_minor": 2
}

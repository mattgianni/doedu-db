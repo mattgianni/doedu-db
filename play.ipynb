{
 "cells": [
  {
   "cell_type": "code",
   "execution_count": null,
   "metadata": {},
   "outputs": [],
   "source": [
    "from difflib import SequenceMatcher as SM\n",
    "\n",
    "def best_match(qmap, school_name, zipcode):\n",
    "    if zipcode not in qmap:\n",
    "        return None\n",
    "\n",
    "    best_ratio = 0\n",
    "    best_match = None\n",
    "\n",
    "    for school in qmap[zipcode]:\n",
    "        ratio = SM(None, school_name, school[\"school_name\"]).ratio()\n",
    "        if ratio > best_ratio:\n",
    "            best_ratio = ratio\n",
    "            best_match = school\n",
    "    return {\"best_match\": best_match, \"ratio\": best_ratio}\n"
   ]
  },
  {
   "cell_type": "code",
   "execution_count": null,
   "metadata": {},
   "outputs": [],
   "source": [
    "from dotenv import load_dotenv\n",
    "import psycopg2\n",
    "import os\n",
    "import json\n",
    "\n",
    "load_dotenv()\n",
    "\n",
    "db_password = os.getenv('DB_PASSWORD')\n",
    "db_user = os.getenv('DB_USER')\n",
    "db_name = os.getenv('DB_NAME')\n",
    "\n",
    "connection = psycopg2.connect(\n",
    "    dbname=db_name,\n",
    "    user=db_user,\n",
    "    password=db_password,\n",
    "    host=\"localhost\",\n",
    "    port=\"5432\"\n",
    ")\n",
    "\n",
    "cursor = connection.cursor()\n",
    "\n",
    "# SFUSD = '68478'\n",
    "cursor.execute(\"SELECT school_code, school_name, zip_code from entities where county_code = '38';\")\n",
    "\n",
    "results = cursor.fetchall();\n",
    "qmap = {}\n",
    "for (scode, sname, szip) in results:\n",
    "    if szip in qmap:\n",
    "        qmap[szip].append({ \"school_code\": scode, \"school_name\": sname })\n",
    "    else:\n",
    "        qmap[szip] = [{ \"school_code\": scode, \"school_name\": sname }]\n",
    "\n",
    "cursor.close()\n",
    "connection.close()\n",
    "\n",
    "\n",
    "#### read the json file\n",
    "with open(\"schoolList.json\", \"r\",encoding=\"utf-8\") as file:\n",
    "    data = json.load(file)\n",
    "\n",
    "json_strings = []\n",
    "for school in data:\n",
    "    zip = f\"no zip for {school['schoolLabel']}\"\n",
    "    if \"geolocations\" in school:\n",
    "        location = school[\"geolocations\"][0][\"addressDetails\"]\n",
    "        schoolCode = school[\"schoolCode\"] if \"schoolCode\" in school else \"<missing>\"\n",
    "        if \"PostalCode\" in location:\n",
    "            zip = location[\"PostalCode\"].split(\"-\")[0]\n",
    "            best = best_match(qmap, school[\"schoolLabel\"], zip)\n",
    "            print(f\"school: {school['schoolLabel']} ({schoolCode}), zip: {zip}, best: {best}\")"
   ]
  }
 ],
 "metadata": {
  "kernelspec": {
   "display_name": ".venv",
   "language": "python",
   "name": "python3"
  },
  "language_info": {
   "codemirror_mode": {
    "name": "ipython",
    "version": 3
   },
   "file_extension": ".py",
   "mimetype": "text/x-python",
   "name": "python",
   "nbconvert_exporter": "python",
   "pygments_lexer": "ipython3",
   "version": "3.12.5"
  }
 },
 "nbformat": 4,
 "nbformat_minor": 2
}

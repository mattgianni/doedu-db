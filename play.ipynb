{
 "cells": [
  {
   "cell_type": "code",
   "execution_count": 9,
   "metadata": {},
   "outputs": [],
   "source": [
    "fn = \"raw/scores.txt\""
   ]
  },
  {
   "cell_type": "code",
   "execution_count": 10,
   "metadata": {},
   "outputs": [
    {
     "name": "stdout",
     "output_type": "stream",
     "text": [
      "1010718 19^64733^Los Angeles Unified^0117762^School for the Visual Arts and Humanities^7^^2024^B^2^224^13^5^5^5^^*^*^*^*^*^*^*^*^*^*^*^*^*^*^*^*^*^*^*^*^*^*^*^*^*^*^*^*^*^*^*^*^*^*^*^*^*^*^*^*^*^*^*^*^*^*^*^*^*^*^*^*^*\n",
      "\n"
     ]
    }
   ],
   "source": [
    "count = 1;\n",
    "last_line = \"\"\n",
    "with open(fn, encoding=\"utf-8\") as fp:\n",
    "    try:\n",
    "        for line in fp:\n",
    "            last_line = line\n",
    "            count += 1\n",
    "    except UnicodeDecodeError:\n",
    "        print(count, last_line)"
   ]
  },
  {
   "cell_type": "code",
   "execution_count": 11,
   "metadata": {},
   "outputs": [],
   "source": [
    "# copy scores (county_code, district_code, district_name, school_code, school_name, type_id, filler, test_year, test_type, test_id, student_group_id, grade, total_students_enrolled, total_students_tested, total_students_tested_with_scores, mean_scale_score, pct_std_exceeded, count_std_exceeded, pct_std_met, count_std_met, pct_std_met_and_above, count_std_met_and_above, pct_std_nearly_met, count_std_nearly_met, pct_std_not_met, count_std_not_met, overall_total, area_1_pct_above_std, area_1_count_above_std, area_1_pct_near_std, area_1_count_near_std, area_1_pct_below_std, area_1_count_below_std, area_1_total, area_2_pct_above_std, area_2_count_above_std, area_2_pct_near_std, area_2_count_near_std, area_2_pct_below_std, area_2_count_below_std, area_2_total, area_3_pct_above_std, area_3_count_above_std, area_3_pct_near_std, area_3_count_near_std, area_3_pct_below_std, area_3_count_below_std, area_3_total, area_4_pct_above_std, area_4_count_above_std, area_4_pct_near_std, area_4_count_near_std, area_4_pct_below_std, area_4_count_below_std, area_4_total, cmp_area_1_pct_above_std, cmp_area_1_count_above_std, cmp_area_1_pct_near_std, cmp_area_1_count_near_std, cmp_area_1_pct_below_std, cmp_area_1_count_below_std, cmp_area_1_total, cmp_area_2_pct_above_std, cmp_area_2_count_above_std, cmp_area_2_pct_near_std, cmp_area_2_count_near_std, cmp_area_2_pct_below_std, cmp_area_2_count_below_std, cmp_area_2_total) from '/raw/scores.txt' delimiter '^' csv null '';"
   ]
  }
 ],
 "metadata": {
  "kernelspec": {
   "display_name": ".venv",
   "language": "python",
   "name": "python3"
  },
  "language_info": {
   "codemirror_mode": {
    "name": "ipython",
    "version": 3
   },
   "file_extension": ".py",
   "mimetype": "text/x-python",
   "name": "python",
   "nbconvert_exporter": "python",
   "pygments_lexer": "ipython3",
   "version": "3.12.3"
  }
 },
 "nbformat": 4,
 "nbformat_minor": 2
}

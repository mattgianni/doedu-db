{
 "cells": [
  {
   "cell_type": "markdown",
   "metadata": {},
   "source": [
    "# mkdata\n",
    "\n",
    "This notebook is used to extract data from the Postgres database into a parquet file for analysis. The data is from the SFUSD project on schools."
   ]
  },
  {
   "cell_type": "code",
   "execution_count": 1,
   "metadata": {},
   "outputs": [],
   "source": [
    "import pandas as pd\n",
    "from utils import sqlalchemy_engine\n",
    "\n",
    "engine = sqlalchemy_engine()"
   ]
  },
  {
   "cell_type": "markdown",
   "metadata": {},
   "source": [
    "## demographic dataframe"
   ]
  },
  {
   "cell_type": "code",
   "execution_count": 2,
   "metadata": {},
   "outputs": [],
   "source": [
    "# create a demongraphic dataframe\n",
    "demo_query = \"\"\"\n",
    "SELECT \n",
    "    school_code,\n",
    "\tstudent_group_id,\n",
    "\tgrade,\n",
    "\tmax(total_students_enrolled) as total_students_enrolled\n",
    "FROM scores\n",
    "WHERE type_id IN (7, 9)\n",
    "AND total_students_enrolled is not null\n",
    "GROUP BY school_code, student_group_id, grade\"\"\"\n",
    "\n",
    "demo_df = pd.read_sql_query(demo_query, engine)\n",
    "\n",
    "# pivot table\n",
    "demo_pt = demo_df.pivot_table(index=['school_code', 'grade'], columns='student_group_id', values='total_students_enrolled', aggfunc=\"max\")\n",
    "demo_pt.reset_index(inplace=True)\n",
    "\n",
    "# convert to ratios\n",
    "for col in demo_pt.columns[3:]:\n",
    "    demo_pt[col] = demo_pt[col].div(demo_pt[1]).where(demo_pt[col].notna())\n",
    "    if demo_pt[demo_pt[1] < demo_pt[col]].size > 0:\n",
    "        print(f\"Warning: {demo_pt[demo_pt[1] < demo_pt[col]].size} rows where col 1 < col {col}\")    "
   ]
  },
  {
   "cell_type": "markdown",
   "metadata": {},
   "source": [
    "## scores dataframe"
   ]
  },
  {
   "cell_type": "code",
   "execution_count": 3,
   "metadata": {},
   "outputs": [],
   "source": [
    "# get the scores dataframe\n",
    "score_query = \"\"\"SELECT \n",
    " \tschool_code,\n",
    "\t test_id,\n",
    "\t grade,\n",
    "\t (pct_std_exceeded::FLOAT / 100::FLOAT) as pct_std_exceeded,\n",
    "\t (pct_std_met::FLOAT / 100::FLOAT) as pct_std_met,\n",
    "\t (pct_std_met_and_above::FLOAT / 100::FLOAT) as pct_std_met_and_above\n",
    "FROM scores\n",
    "WHERE type_id IN (7, 9)\n",
    "AND total_students_enrolled is not null\n",
    "AND student_group_id = 1\"\"\"\n",
    "\n",
    "score_df = pd.read_sql_query(score_query, engine)\n",
    "score_df['test_id'] = score_df['test_id'].replace({1: 'MATH', 2: 'ENG'})\n",
    "\n",
    "score_pt=score_df.pivot(index=['school_code', 'grade'], columns=['test_id'], values=['pct_std_exceeded', 'pct_std_met', 'pct_std_met_and_above'])\n",
    "score_pt.reset_index(inplace=True)\n",
    "score_pt.columns = score_pt.columns.map('_'.join).map(str.lower)\n",
    "score_pt = score_pt.rename(columns={'school_code_': 'school_code', 'grade_': 'grade'})"
   ]
  },
  {
   "cell_type": "code",
   "execution_count": null,
   "metadata": {},
   "outputs": [],
   "source": [
    "# merge the two dataframes\n",
    "merged_df = pd.merge(score_pt, demo_pt, on=['school_code', 'grade'], how='left')\n",
    "merged_df.to_feather(\"merged.feather\")"
   ]
  },
  {
   "cell_type": "code",
   "execution_count": null,
   "metadata": {},
   "outputs": [],
   "source": [
    "\n",
    "demo_labels_df = pd.read_sql_query(\"SELECT * FROM demographics\", engine)\n",
    "demo_labels_df.to_feather(\"demo_labels.feather\")"
   ]
  }
 ],
 "metadata": {
  "kernelspec": {
   "display_name": ".venv",
   "language": "python",
   "name": "python3"
  },
  "language_info": {
   "codemirror_mode": {
    "name": "ipython",
    "version": 3
   },
   "file_extension": ".py",
   "mimetype": "text/x-python",
   "name": "python",
   "nbconvert_exporter": "python",
   "pygments_lexer": "ipython3",
   "version": "3.13.2"
  }
 },
 "nbformat": 4,
 "nbformat_minor": 2
}

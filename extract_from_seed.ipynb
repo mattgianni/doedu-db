{
 "cells": [
  {
   "cell_type": "code",
   "execution_count": null,
   "metadata": {},
   "outputs": [],
   "source": [
    "import json\n",
    "import csv\n",
    "import os\n",
    "\n",
    "\n",
    "# Create the directory to store the extracted data\n",
    "if not os.path.exists(\"extracted_data\"):\n",
    "    os.makedirs(\"extracted_data\")\n",
    "\n",
    "# load the seed file\n",
    "with open('seed.json', encoding='utf-8') as f:\n",
    "    seed = json.load(f)"
   ]
  },
  {
   "cell_type": "markdown",
   "metadata": {},
   "source": [
    "### Extract program details"
   ]
  },
  {
   "cell_type": "code",
   "execution_count": null,
   "metadata": {},
   "outputs": [],
   "source": [
    "def extract_program_details(school):\n",
    "    'extract programs that include a url into CSV'\n",
    "    # return [ f\"{'*' if len(program['url']) else ''}{program['name']} ({program['category']}){'#' if has_kw(program['name']) else ''}\" for program in school['programs']['createMany']['data'] if len(program['url'])]\n",
    "    return [ {'casid': school['casid'], 'name': program['name'], 'details': program['details'], 'url': program['url'], 'category': program['category']} for program in school['programs']['createMany']['data'] if len(program['url'])]\n",
    "\n",
    "\n",
    "\n",
    "all_programs = []\n",
    "for school in seed:\n",
    "    all_programs.extend(extract_program_details(school))\n",
    "\n",
    "with open(os.path.join('extracted_data', 'programs.dat'), 'w') as f:\n",
    "    writer = csv.DictWriter(f, fieldnames=['casid', 'name', 'details', 'url', 'category'], delimiter='^')\n",
    "    writer.writeheader()\n",
    "    writer.writerows(all_programs)"
   ]
  },
  {
   "cell_type": "markdown",
   "metadata": {},
   "source": [
    "### Extract profile details"
   ]
  },
  {
   "cell_type": "code",
   "execution_count": null,
   "metadata": {},
   "outputs": [],
   "source": []
  }
 ],
 "metadata": {
  "kernelspec": {
   "display_name": ".venv",
   "language": "python",
   "name": "python3"
  },
  "language_info": {
   "codemirror_mode": {
    "name": "ipython",
    "version": 3
   },
   "file_extension": ".py",
   "mimetype": "text/x-python",
   "name": "python",
   "nbconvert_exporter": "python",
   "pygments_lexer": "ipython3",
   "version": "3.12.5"
  }
 },
 "nbformat": 4,
 "nbformat_minor": 2
}
